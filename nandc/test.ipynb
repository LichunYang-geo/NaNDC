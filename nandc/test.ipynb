{
 "cells": [
  {
   "cell_type": "code",
   "execution_count": 1,
   "metadata": {},
   "outputs": [],
   "source": [
    "from util.base import DataOT\n",
    "from util.io import read_data, save_results, plot_results\n",
    "from obspy.taup.taup_create import build_taup_model\n",
    "from grid.grid_create import FullMomentTensorGridSegment\n",
    "from grid.grid_search import GridSearchOptimalParallel"
   ]
  },
  {
   "cell_type": "code",
   "execution_count": 2,
   "metadata": {},
   "outputs": [
    {
     "name": "stdout",
     "output_type": "stream",
     "text": [
      "Building obspy.taup model for '../example/toc2me.nd' ...\n",
      "filename = ../example/toc2me.nd\n",
      "Done reading velocity model.\n",
      "Radius of model . is 6371.0\n",
      "Using parameters provided in TauP_config.ini (or defaults if not) to call SlownessModel...\n",
      "Parameters are:\n",
      "taup.create.min_delta_p = 0.1 sec / radian\n",
      "taup.create.max_delta_p = 11.0 sec / radian\n",
      "taup.create.max_depth_interval = 115.0 kilometers\n",
      "taup.create.max_range_interval = 0.04363323129985824 degrees\n",
      "taup.create.max_interp_error = 0.05 seconds\n",
      "taup.create.allow_inner_core_s = True\n",
      "Slow model  705 P layers,811 S layers\n",
      "Done calculating Tau branches.\n",
      "Done Saving ./toc2me.npz\n",
      "Method run is done, but not necessarily successful.\n"
     ]
    },
    {
     "name": "stderr",
     "output_type": "stream",
     "text": [
      "100%|██████████| 1/1 [00:00<00:00,  5.58it/s]\n"
     ]
    }
   ],
   "source": [
    "build_taup_model(filename=\"../example/toc2me.nd\", output_folder='./')\n",
    "events = read_data(event_list=\"../example/events.list\", data_dir=\"../example/\", vmodel=\"../example/toc2me.nd\")"
   ]
  },
  {
   "cell_type": "code",
   "execution_count": 3,
   "metadata": {},
   "outputs": [
    {
     "name": "stdout",
     "output_type": "stream",
     "text": [
      "Searching Space size: 1580040\n",
      "\n"
     ]
    },
    {
     "name": "stderr",
     "output_type": "stream",
     "text": [
      "Searching: 100%|██████████| 32/32 [00:02<00:00, 11.55it/s]\n"
     ]
    }
   ],
   "source": [
    "magnitude = 3.2\n",
    "event = events[0]\n",
    "grid = FullMomentTensorGridSegment(magnitude,npts_v=11,npts_w=21,npts_kappa=37,npts_sigma=19,npts_h=11)\n",
    "gs, misfit = GridSearchOptimalParallel(event, grid, [1,1,1], 50000, 24)\n",
    "invs = DataOT(gs, event, misfit, magnitude)"
   ]
  },
  {
   "cell_type": "code",
   "execution_count": 4,
   "metadata": {},
   "outputs": [],
   "source": [
    "save_results(\"../example/invs/\", invs, event)\n",
    "plot_results(\"../example/invs/\", \"png\", invs, event, \"1/1/1\")"
   ]
  }
 ],
 "metadata": {
  "kernelspec": {
   "display_name": "nandc",
   "language": "python",
   "name": "python3"
  },
  "language_info": {
   "codemirror_mode": {
    "name": "ipython",
    "version": 3
   },
   "file_extension": ".py",
   "mimetype": "text/x-python",
   "name": "python",
   "nbconvert_exporter": "python",
   "pygments_lexer": "ipython3",
   "version": "3.12.0"
  }
 },
 "nbformat": 4,
 "nbformat_minor": 2
}
